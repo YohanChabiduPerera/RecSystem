{
  "cells": [
    {
      "cell_type": "code",
      "execution_count": null,
      "metadata": {
        "colab": {
          "base_uri": "https://localhost:8080/",
          "height": 206
        },
        "id": "EFba9ddlg6ZA",
        "outputId": "c4b0e0e3-9572-46c6-c658-8ba8d69939da"
      },
      "outputs": [
        {
          "data": {
            "text/html": [
              "<div>\n",
              "<style scoped>\n",
              "    .dataframe tbody tr th:only-of-type {\n",
              "        vertical-align: middle;\n",
              "    }\n",
              "\n",
              "    .dataframe tbody tr th {\n",
              "        vertical-align: top;\n",
              "    }\n",
              "\n",
              "    .dataframe thead th {\n",
              "        text-align: right;\n",
              "    }\n",
              "</style>\n",
              "<table border=\"1\" class=\"dataframe\">\n",
              "  <thead>\n",
              "    <tr style=\"text-align: right;\">\n",
              "      <th></th>\n",
              "      <th>userId</th>\n",
              "      <th>venueId</th>\n",
              "      <th>venueCategoryId</th>\n",
              "      <th>venueCategory</th>\n",
              "      <th>latitude</th>\n",
              "      <th>longitude</th>\n",
              "      <th>timezoneOffset</th>\n",
              "      <th>utcTimestamp</th>\n",
              "    </tr>\n",
              "  </thead>\n",
              "  <tbody>\n",
              "    <tr>\n",
              "      <th>0</th>\n",
              "      <td>470</td>\n",
              "      <td>49bbd6c0f964a520f4531fe3</td>\n",
              "      <td>4bf58dd8d48988d127951735</td>\n",
              "      <td>Arts &amp; Crafts Store</td>\n",
              "      <td>40.719810</td>\n",
              "      <td>-74.002581</td>\n",
              "      <td>-240</td>\n",
              "      <td>Tue Apr 03 18:00:09 +0000 2012</td>\n",
              "    </tr>\n",
              "    <tr>\n",
              "      <th>1</th>\n",
              "      <td>979</td>\n",
              "      <td>4a43c0aef964a520c6a61fe3</td>\n",
              "      <td>4bf58dd8d48988d1df941735</td>\n",
              "      <td>Bridge</td>\n",
              "      <td>40.606800</td>\n",
              "      <td>-74.044170</td>\n",
              "      <td>-240</td>\n",
              "      <td>Tue Apr 03 18:00:25 +0000 2012</td>\n",
              "    </tr>\n",
              "    <tr>\n",
              "      <th>2</th>\n",
              "      <td>69</td>\n",
              "      <td>4c5cc7b485a1e21e00d35711</td>\n",
              "      <td>4bf58dd8d48988d103941735</td>\n",
              "      <td>Home (private)</td>\n",
              "      <td>40.716162</td>\n",
              "      <td>-73.883070</td>\n",
              "      <td>-240</td>\n",
              "      <td>Tue Apr 03 18:02:24 +0000 2012</td>\n",
              "    </tr>\n",
              "    <tr>\n",
              "      <th>3</th>\n",
              "      <td>395</td>\n",
              "      <td>4bc7086715a7ef3bef9878da</td>\n",
              "      <td>4bf58dd8d48988d104941735</td>\n",
              "      <td>Medical Center</td>\n",
              "      <td>40.745164</td>\n",
              "      <td>-73.982519</td>\n",
              "      <td>-240</td>\n",
              "      <td>Tue Apr 03 18:02:41 +0000 2012</td>\n",
              "    </tr>\n",
              "    <tr>\n",
              "      <th>4</th>\n",
              "      <td>87</td>\n",
              "      <td>4cf2c5321d18a143951b5cec</td>\n",
              "      <td>4bf58dd8d48988d1cb941735</td>\n",
              "      <td>Food Truck</td>\n",
              "      <td>40.740104</td>\n",
              "      <td>-73.989658</td>\n",
              "      <td>-240</td>\n",
              "      <td>Tue Apr 03 18:03:00 +0000 2012</td>\n",
              "    </tr>\n",
              "  </tbody>\n",
              "</table>\n",
              "</div>"
            ],
            "text/plain": [
              "   userId                   venueId           venueCategoryId  \\\n",
              "0     470  49bbd6c0f964a520f4531fe3  4bf58dd8d48988d127951735   \n",
              "1     979  4a43c0aef964a520c6a61fe3  4bf58dd8d48988d1df941735   \n",
              "2      69  4c5cc7b485a1e21e00d35711  4bf58dd8d48988d103941735   \n",
              "3     395  4bc7086715a7ef3bef9878da  4bf58dd8d48988d104941735   \n",
              "4      87  4cf2c5321d18a143951b5cec  4bf58dd8d48988d1cb941735   \n",
              "\n",
              "         venueCategory   latitude  longitude  timezoneOffset  \\\n",
              "0  Arts & Crafts Store  40.719810 -74.002581            -240   \n",
              "1               Bridge  40.606800 -74.044170            -240   \n",
              "2       Home (private)  40.716162 -73.883070            -240   \n",
              "3       Medical Center  40.745164 -73.982519            -240   \n",
              "4           Food Truck  40.740104 -73.989658            -240   \n",
              "\n",
              "                     utcTimestamp  \n",
              "0  Tue Apr 03 18:00:09 +0000 2012  \n",
              "1  Tue Apr 03 18:00:25 +0000 2012  \n",
              "2  Tue Apr 03 18:02:24 +0000 2012  \n",
              "3  Tue Apr 03 18:02:41 +0000 2012  \n",
              "4  Tue Apr 03 18:03:00 +0000 2012  "
            ]
          },
          "execution_count": 1,
          "metadata": {},
          "output_type": "execute_result"
        }
      ],
      "source": [
        "import pandas as pd\n",
        "\n",
        "# Load the dataset\n",
        "data = pd.read_csv('./data/dataset_TSMC2014_NYC.csv')\n",
        "\n",
        "# Display the first few rows\n",
        "data.head()"
      ]
    },
    {
      "cell_type": "code",
      "execution_count": null,
      "metadata": {
        "id": "joddTQ_8hd9_"
      },
      "outputs": [],
      "source": [
        "# Convert the UTC timestamps to datetime format\n",
        "data['utcTimestamp'] = pd.to_datetime(data['utcTimestamp'], format='%a %b %d %H:%M:%S +0000 %Y')\n",
        "\n",
        "# Extract useful time features\n",
        "data['year'] = data['utcTimestamp'].dt.year\n",
        "data['month'] = data['utcTimestamp'].dt.month\n",
        "data['day'] = data['utcTimestamp'].dt.day\n",
        "data['hour'] = data['utcTimestamp'].dt.hour"
      ]
    },
    {
      "cell_type": "code",
      "execution_count": null,
      "metadata": {
        "id": "m28_XgLxy2cs"
      },
      "outputs": [],
      "source": [
        "from geopy.geocoders import Nominatim\n",
        "geolocator = Nominatim(user_agent=\"venue_locator\")"
      ]
    },
    {
      "cell_type": "code",
      "execution_count": null,
      "metadata": {
        "colab": {
          "base_uri": "https://localhost:8080/"
        },
        "id": "ZRj7HxFDy-M-",
        "outputId": "8fd55cf3-ca55-4117-a862-a28ecd1389b7"
      },
      "outputs": [
        {
          "name": "stdout",
          "output_type": "stream",
          "text": [
            "Exact location: 308, Canal Street, Manhattan Community Board 1, Manhattan, New York County, City of New York, New York, 10013, United States\n"
          ]
        }
      ],
      "source": [
        "# Example latitude and longitude from your data\n",
        "latitude = 40.71981038\n",
        "longitude = -74.00258103\n",
        "\n",
        "# Reverse geocoding to get the location name\n",
        "location = geolocator.reverse((latitude, longitude), exactly_one=True)\n",
        "\n",
        "# Print the address\n",
        "if location:\n",
        "    print(f\"Exact location: {location.address}\")\n",
        "else:\n",
        "    print(\"Location not found.\")"
      ]
    },
    {
      "cell_type": "code",
      "execution_count": null,
      "metadata": {
        "id": "DxaRBgd9hiIV"
      },
      "outputs": [],
      "source": [
        "from sklearn.preprocessing import MinMaxScaler\n",
        "\n",
        "# Normalizing latitude and longitude\n",
        "scaler = MinMaxScaler()\n",
        "data[['latitude', 'longitude']] = scaler.fit_transform(data[['latitude', 'longitude']])"
      ]
    },
    {
      "cell_type": "code",
      "execution_count": null,
      "metadata": {
        "id": "wmJpWh8jhxev"
      },
      "outputs": [],
      "source": [
        "from sklearn.preprocessing import LabelEncoder\n",
        "\n",
        "# Encode userId and venueId\n",
        "le_user = LabelEncoder()\n",
        "le_venue = LabelEncoder()\n",
        "\n",
        "data['userId'] = le_user.fit_transform(data['userId'])\n",
        "data['venueId'] = le_venue.fit_transform(data['venueId'])"
      ]
    },
    {
      "cell_type": "markdown",
      "metadata": {
        "id": "9ex4_CHsh0Kp"
      },
      "source": [
        "## Building the LSTM Model"
      ]
    },
    {
      "cell_type": "markdown",
      "metadata": {
        "id": "aA2_f5dBi5Gt"
      },
      "source": [
        "This model will predict the next venue a user might visit based on their check-in history."
      ]
    },
    {
      "cell_type": "code",
      "execution_count": null,
      "metadata": {
        "id": "Tf0TPa-1h3O7"
      },
      "outputs": [],
      "source": [
        "import numpy as np\n",
        "from tensorflow.keras.preprocessing.sequence import pad_sequences\n",
        "\n",
        "# Prepare sequences for LSTM\n",
        "def create_sequences(data, user_col, venue_col, seq_length=10):\n",
        "    sequences = []\n",
        "    targets = []\n",
        "    user_groups = data.groupby(user_col)\n",
        "\n",
        "    for user_id, group in user_groups:\n",
        "        venues = group[venue_col].values\n",
        "        for i in range(len(venues) - seq_length):\n",
        "            seq = venues[i:i + seq_length]\n",
        "            target = venues[i + seq_length]\n",
        "            sequences.append(seq)\n",
        "            targets.append(target)\n",
        "\n",
        "    return np.array(sequences), np.array(targets)\n",
        "\n",
        "seq_length = 10\n",
        "X, y = create_sequences(data, 'userId', 'venueId', seq_length=seq_length)\n",
        "\n",
        "# Pad sequences to ensure they have the same length\n",
        "X = pad_sequences(X, maxlen=seq_length)"
      ]
    },
    {
      "cell_type": "code",
      "execution_count": 8,
      "metadata": {
        "colab": {
          "base_uri": "https://localhost:8080/"
        },
        "id": "A3NUGN7Jh73c",
        "outputId": "edbe50dc-84f3-461d-9b24-404f372760d4"
      },
      "outputs": [
        {
          "name": "stdout",
          "output_type": "stream",
          "text": [
            "Epoch 1/10\n"
          ]
        },
        {
          "name": "stderr",
          "output_type": "stream",
          "text": [
            "c:\\Users\\ranuja\\Downloads\\Travel recommendation-20240821T160142Z-001\\Travel recommendation\\.venv\\Lib\\site-packages\\keras\\src\\layers\\core\\embedding.py:90: UserWarning: Argument `input_length` is deprecated. Just remove it.\n",
            "  warnings.warn(\n"
          ]
        },
        {
          "name": "stdout",
          "output_type": "stream",
          "text": [
            "\u001b[1m5415/5415\u001b[0m \u001b[32m━━━━━━━━━━━━━━━━━━━━\u001b[0m\u001b[37m\u001b[0m \u001b[1m284s\u001b[0m 52ms/step - accuracy: 0.0084 - loss: 9.5530 - val_accuracy: 0.0074 - val_loss: 11.0494\n",
            "Epoch 2/10\n",
            "\u001b[1m5415/5415\u001b[0m \u001b[32m━━━━━━━━━━━━━━━━━━━━\u001b[0m\u001b[37m\u001b[0m \u001b[1m308s\u001b[0m 57ms/step - accuracy: 0.0692 - loss: 7.8271 - val_accuracy: 0.0109 - val_loss: 11.7918\n",
            "Epoch 3/10\n",
            "\u001b[1m5415/5415\u001b[0m \u001b[32m━━━━━━━━━━━━━━━━━━━━\u001b[0m\u001b[37m\u001b[0m \u001b[1m248s\u001b[0m 46ms/step - accuracy: 0.1353 - loss: 6.4702 - val_accuracy: 0.0149 - val_loss: 12.2384\n",
            "Epoch 4/10\n",
            "\u001b[1m5415/5415\u001b[0m \u001b[32m━━━━━━━━━━━━━━━━━━━━\u001b[0m\u001b[37m\u001b[0m \u001b[1m303s\u001b[0m 56ms/step - accuracy: 0.1712 - loss: 5.5525 - val_accuracy: 0.0129 - val_loss: 12.9545\n",
            "Epoch 5/10\n",
            "\u001b[1m5415/5415\u001b[0m \u001b[32m━━━━━━━━━━━━━━━━━━━━\u001b[0m\u001b[37m\u001b[0m \u001b[1m334s\u001b[0m 62ms/step - accuracy: 0.1995 - loss: 4.8737 - val_accuracy: 0.0117 - val_loss: 13.7795\n",
            "Epoch 6/10\n",
            "\u001b[1m5415/5415\u001b[0m \u001b[32m━━━━━━━━━━━━━━━━━━━━\u001b[0m\u001b[37m\u001b[0m \u001b[1m250s\u001b[0m 46ms/step - accuracy: 0.2263 - loss: 4.3214 - val_accuracy: 0.0097 - val_loss: 14.7360\n",
            "Epoch 7/10\n",
            "\u001b[1m5415/5415\u001b[0m \u001b[32m━━━━━━━━━━━━━━━━━━━━\u001b[0m\u001b[37m\u001b[0m \u001b[1m223s\u001b[0m 41ms/step - accuracy: 0.2592 - loss: 3.8351 - val_accuracy: 0.0084 - val_loss: 15.8501\n",
            "Epoch 8/10\n",
            "\u001b[1m5415/5415\u001b[0m \u001b[32m━━━━━━━━━━━━━━━━━━━━\u001b[0m\u001b[37m\u001b[0m \u001b[1m223s\u001b[0m 41ms/step - accuracy: 0.3020 - loss: 3.3637 - val_accuracy: 0.0066 - val_loss: 16.9467\n",
            "Epoch 9/10\n",
            "\u001b[1m5415/5415\u001b[0m \u001b[32m━━━━━━━━━━━━━━━━━━━━\u001b[0m\u001b[37m\u001b[0m \u001b[1m222s\u001b[0m 41ms/step - accuracy: 0.3577 - loss: 2.9457 - val_accuracy: 0.0055 - val_loss: 18.6262\n",
            "Epoch 10/10\n",
            "\u001b[1m5415/5415\u001b[0m \u001b[32m━━━━━━━━━━━━━━━━━━━━\u001b[0m\u001b[37m\u001b[0m \u001b[1m241s\u001b[0m 45ms/step - accuracy: 0.4158 - loss: 2.5722 - val_accuracy: 0.0050 - val_loss: 19.6679\n"
          ]
        },
        {
          "data": {
            "text/plain": [
              "<keras.src.callbacks.history.History at 0x1dc4c4d1250>"
            ]
          },
          "execution_count": 8,
          "metadata": {},
          "output_type": "execute_result"
        }
      ],
      "source": [
        "from tensorflow.keras.models import Sequential\n",
        "from tensorflow.keras.layers import LSTM, Dense, Embedding\n",
        "\n",
        "# Define the LSTM model\n",
        "model = Sequential([\n",
        "    Embedding(input_dim=len(le_venue.classes_), output_dim=50, input_length=seq_length),\n",
        "    LSTM(128, return_sequences=False),\n",
        "    Dense(64, activation='relu'),\n",
        "    Dense(len(le_venue.classes_), activation='softmax')\n",
        "])\n",
        "\n",
        "model.compile(optimizer='adam', loss='sparse_categorical_crossentropy', metrics=['accuracy'])\n",
        "\n",
        "# Train the model\n",
        "model.fit(X, y, epochs=10, batch_size=32, validation_split=0.2)"
      ]
    },
    {
      "cell_type": "markdown",
      "metadata": {
        "id": "_pe3r27Fp_oN"
      },
      "source": [
        "## Building the KNN Model\n",
        "\n",
        "The KNN model will be used to find similar users or venues based on geographical data.\n",
        "\n"
      ]
    },
    {
      "cell_type": "code",
      "execution_count": 9,
      "metadata": {
        "id": "oLzi5qYGp_bv"
      },
      "outputs": [],
      "source": [
        "from sklearn.neighbors import NearestNeighbors\n",
        "\n",
        "# Features for KNN (latitude, longitude, budget)\n",
        "X_knn = data[['latitude', 'longitude']]\n",
        "\n",
        "# Initialize and fit the KNN model\n",
        "knn = NearestNeighbors(n_neighbors=5, algorithm='auto').fit(X_knn)"
      ]
    },
    {
      "cell_type": "markdown",
      "metadata": {
        "id": "xnOvZ_7-qMaZ"
      },
      "source": [
        "## Extracting a Sample User's Data"
      ]
    },
    {
      "cell_type": "code",
      "execution_count": 10,
      "metadata": {
        "colab": {
          "base_uri": "https://localhost:8080/",
          "height": 206
        },
        "id": "ivp09gTuqL5Y",
        "outputId": "4bd89636-7c75-4fce-ac91-e68522b4e299"
      },
      "outputs": [
        {
          "data": {
            "text/html": [
              "<div>\n",
              "<style scoped>\n",
              "    .dataframe tbody tr th:only-of-type {\n",
              "        vertical-align: middle;\n",
              "    }\n",
              "\n",
              "    .dataframe tbody tr th {\n",
              "        vertical-align: top;\n",
              "    }\n",
              "\n",
              "    .dataframe thead th {\n",
              "        text-align: right;\n",
              "    }\n",
              "</style>\n",
              "<table border=\"1\" class=\"dataframe\">\n",
              "  <thead>\n",
              "    <tr style=\"text-align: right;\">\n",
              "      <th></th>\n",
              "      <th>userId</th>\n",
              "      <th>venueId</th>\n",
              "      <th>venueCategoryId</th>\n",
              "      <th>venueCategory</th>\n",
              "      <th>latitude</th>\n",
              "      <th>longitude</th>\n",
              "      <th>timezoneOffset</th>\n",
              "      <th>utcTimestamp</th>\n",
              "      <th>year</th>\n",
              "      <th>month</th>\n",
              "      <th>day</th>\n",
              "      <th>hour</th>\n",
              "    </tr>\n",
              "  </thead>\n",
              "  <tbody>\n",
              "    <tr>\n",
              "      <th>1</th>\n",
              "      <td>978</td>\n",
              "      <td>3921</td>\n",
              "      <td>4bf58dd8d48988d1df941735</td>\n",
              "      <td>Bridge</td>\n",
              "      <td>0.127885</td>\n",
              "      <td>0.390219</td>\n",
              "      <td>-240</td>\n",
              "      <td>2012-04-03 18:00:25</td>\n",
              "      <td>2012</td>\n",
              "      <td>4</td>\n",
              "      <td>3</td>\n",
              "      <td>18</td>\n",
              "    </tr>\n",
              "    <tr>\n",
              "      <th>712</th>\n",
              "      <td>978</td>\n",
              "      <td>3715</td>\n",
              "      <td>4bf58dd8d48988d146941735</td>\n",
              "      <td>Deli / Bodega</td>\n",
              "      <td>0.383874</td>\n",
              "      <td>0.477134</td>\n",
              "      <td>-240</td>\n",
              "      <td>2012-04-04 00:03:53</td>\n",
              "      <td>2012</td>\n",
              "      <td>4</td>\n",
              "      <td>4</td>\n",
              "      <td>0</td>\n",
              "    </tr>\n",
              "    <tr>\n",
              "      <th>2004</th>\n",
              "      <td>978</td>\n",
              "      <td>17576</td>\n",
              "      <td>4bf58dd8d48988d1e2941735</td>\n",
              "      <td>Beach</td>\n",
              "      <td>0.052763</td>\n",
              "      <td>0.322333</td>\n",
              "      <td>-240</td>\n",
              "      <td>2012-04-04 17:21:27</td>\n",
              "      <td>2012</td>\n",
              "      <td>4</td>\n",
              "      <td>4</td>\n",
              "      <td>17</td>\n",
              "    </tr>\n",
              "    <tr>\n",
              "      <th>2012</th>\n",
              "      <td>978</td>\n",
              "      <td>28383</td>\n",
              "      <td>4bf58dd8d48988d1e2941735</td>\n",
              "      <td>Beach</td>\n",
              "      <td>0.090808</td>\n",
              "      <td>0.352930</td>\n",
              "      <td>-240</td>\n",
              "      <td>2012-04-04 17:24:08</td>\n",
              "      <td>2012</td>\n",
              "      <td>4</td>\n",
              "      <td>4</td>\n",
              "      <td>17</td>\n",
              "    </tr>\n",
              "    <tr>\n",
              "      <th>2052</th>\n",
              "      <td>978</td>\n",
              "      <td>3668</td>\n",
              "      <td>4bf58dd8d48988d1df941735</td>\n",
              "      <td>Bridge</td>\n",
              "      <td>0.354384</td>\n",
              "      <td>0.481883</td>\n",
              "      <td>-240</td>\n",
              "      <td>2012-04-04 17:46:09</td>\n",
              "      <td>2012</td>\n",
              "      <td>4</td>\n",
              "      <td>4</td>\n",
              "      <td>17</td>\n",
              "    </tr>\n",
              "  </tbody>\n",
              "</table>\n",
              "</div>"
            ],
            "text/plain": [
              "      userId  venueId           venueCategoryId  venueCategory  latitude  \\\n",
              "1        978     3921  4bf58dd8d48988d1df941735         Bridge  0.127885   \n",
              "712      978     3715  4bf58dd8d48988d146941735  Deli / Bodega  0.383874   \n",
              "2004     978    17576  4bf58dd8d48988d1e2941735          Beach  0.052763   \n",
              "2012     978    28383  4bf58dd8d48988d1e2941735          Beach  0.090808   \n",
              "2052     978     3668  4bf58dd8d48988d1df941735         Bridge  0.354384   \n",
              "\n",
              "      longitude  timezoneOffset        utcTimestamp  year  month  day  hour  \n",
              "1      0.390219            -240 2012-04-03 18:00:25  2012      4    3    18  \n",
              "712    0.477134            -240 2012-04-04 00:03:53  2012      4    4     0  \n",
              "2004   0.322333            -240 2012-04-04 17:21:27  2012      4    4    17  \n",
              "2012   0.352930            -240 2012-04-04 17:24:08  2012      4    4    17  \n",
              "2052   0.481883            -240 2012-04-04 17:46:09  2012      4    4    17  "
            ]
          },
          "execution_count": 10,
          "metadata": {},
          "output_type": "execute_result"
        }
      ],
      "source": [
        "# Select a sample user\n",
        "sample_user_id = data['userId'].iloc[1]\n",
        "sample_user_data = data[data['userId'] == sample_user_id]\n",
        "\n",
        "# Display the sample user's data\n",
        "sample_user_data.head()"
      ]
    },
    {
      "cell_type": "code",
      "execution_count": 11,
      "metadata": {
        "id": "FCkm2V1o0hSS"
      },
      "outputs": [],
      "source": [
        "# Function to get exact location from latitude and longitude\n",
        "def get_exact_location(latitude, longitude):\n",
        "    location = geolocator.reverse((latitude, longitude), exactly_one=True)\n",
        "    return location.address if location else \"Location not found\""
      ]
    },
    {
      "cell_type": "markdown",
      "metadata": {
        "id": "97zs4IWcrm6U"
      },
      "source": [
        "## Testing the LSTM Model with Venue Category"
      ]
    },
    {
      "cell_type": "code",
      "execution_count": 12,
      "metadata": {
        "colab": {
          "base_uri": "https://localhost:8080/"
        },
        "id": "kwqaidqiC2Fy",
        "outputId": "7d34c2ed-a674-4ff5-c22e-fecec57af3b0"
      },
      "outputs": [
        {
          "name": "stdout",
          "output_type": "stream",
          "text": [
            "\u001b[1m1/1\u001b[0m \u001b[32m━━━━━━━━━━━━━━━━━━━━\u001b[0m\u001b[37m\u001b[0m \u001b[1m0s\u001b[0m 442ms/step\n",
            "LSTM Model Prediction: Next venue for user 978 is likely 'Cupcake Shop' (Venue ID: 4b26a833f964a5200e7f24e3)\n",
            "Destination: Garment District, Manhattan, New York County, City of New York, New York, 10018, United States\n"
          ]
        }
      ],
      "source": [
        "# Prepare the last 10 venues visited by the sample user\n",
        "sample_sequence = sample_user_data['venueId'].values[-seq_length:]\n",
        "sample_sequence = pad_sequences([sample_sequence], maxlen=seq_length)\n",
        "\n",
        "# Predict the next venue\n",
        "lstm_prediction = model.predict(sample_sequence).argmax(axis=1)[0]\n",
        "predicted_venue_id = le_venue.inverse_transform([lstm_prediction])[0]\n",
        "\n",
        "# Find the venue category and location\n",
        "predicted_venue_row = data[data['venueId'] == lstm_prediction].iloc[0]\n",
        "predicted_venue_category = predicted_venue_row['venueCategory']\n",
        "predicted_venue_latitude = predicted_venue_row['latitude']\n",
        "predicted_venue_longitude = predicted_venue_row['longitude']\n",
        "\n",
        "# Reverse transform the scaled latitude and longitude to get original values\n",
        "original_location = scaler.inverse_transform([[predicted_venue_latitude, predicted_venue_longitude]])\n",
        "original_latitude = original_location[0][0]\n",
        "original_longitude = original_location[0][1]\n",
        "\n",
        "# Get the exact location using reverse geocoding\n",
        "exact_location = get_exact_location(original_latitude, original_longitude)\n",
        "\n",
        "print(f\"LSTM Model Prediction: Next venue for user {sample_user_id} is likely '{predicted_venue_category}' (Venue ID: {predicted_venue_id})\")\n",
        "print(f\"Destination: {exact_location}\")"
      ]
    },
    {
      "cell_type": "markdown",
      "metadata": {
        "id": "is5cuAIpqe0q"
      },
      "source": [
        "## Testing the KNN Model"
      ]
    },
    {
      "cell_type": "code",
      "execution_count": 13,
      "metadata": {
        "colab": {
          "base_uri": "https://localhost:8080/"
        },
        "id": "U4W8-zAHqeIM",
        "outputId": "2830cc9a-a3dd-47e3-c99a-7980f0f125ec"
      },
      "outputs": [
        {
          "name": "stdout",
          "output_type": "stream",
          "text": [
            "KNN Model Recommendations: Nearby venues for user 978 are ['Beach'].\n"
          ]
        },
        {
          "name": "stderr",
          "output_type": "stream",
          "text": [
            "c:\\Users\\ranuja\\Downloads\\Travel recommendation-20240821T160142Z-001\\Travel recommendation\\.venv\\Lib\\site-packages\\sklearn\\base.py:493: UserWarning: X does not have valid feature names, but NearestNeighbors was fitted with feature names\n",
            "  warnings.warn(\n"
          ]
        },
        {
          "name": "stdout",
          "output_type": "stream",
          "text": [
            "Venue ID: 28383, Location: Father Capodanno Boulevard, South Beach, Staten Island, Richmond County, City of New York, New York, 10305, United States\n"
          ]
        }
      ],
      "source": [
        "# Use the last known location of the sample user\n",
        "last_location = sample_user_data[['latitude', 'longitude']].values[-1]\n",
        "\n",
        "# Find the nearest neighbors\n",
        "knn_distances, knn_indices = knn.kneighbors([last_location])\n",
        "\n",
        "# Get the recommended venues\n",
        "recommended_venue_ids = data.iloc[knn_indices[0]]['venueId'].unique()\n",
        "\n",
        "# Get venue categories for the recommended venues\n",
        "recommended_venue_categories = data[data['venueId'].isin(recommended_venue_ids)]['venueCategory'].unique()\n",
        "\n",
        "print(f\"KNN Model Recommendations: Nearby venues for user {sample_user_id} are {recommended_venue_categories}.\")\n",
        "\n",
        "# Iterate through recommended venue IDs and print their exact locations\n",
        "for venue_id in recommended_venue_ids:\n",
        "    venue_row = data[data['venueId'] == venue_id].iloc[0]\n",
        "    venue_latitude = venue_row['latitude']\n",
        "    venue_longitude = venue_row['longitude']\n",
        "\n",
        "    # Reverse transform the scaled latitude and longitude to get original values\n",
        "    original_location = scaler.inverse_transform([[venue_latitude, venue_longitude]])\n",
        "    original_latitude = original_location[0][0]\n",
        "    original_longitude = original_location[0][1]\n",
        "\n",
        "    exact_location = get_exact_location(original_latitude, original_longitude)\n",
        "    print(f\"Venue ID: {venue_id}, Location: {exact_location}\")"
      ]
    },
    {
      "cell_type": "markdown",
      "metadata": {
        "id": "SPNKzc4L1pmm"
      },
      "source": [
        "## Retraining the model after Rating"
      ]
    },
    {
      "cell_type": "code",
      "execution_count": 14,
      "metadata": {
        "id": "6-SzbC52R-co"
      },
      "outputs": [
        {
          "ename": "TypeError",
          "evalue": "'Variable' object does not support item assignment",
          "output_type": "error",
          "traceback": [
            "\u001b[1;31m---------------------------------------------------------------------------\u001b[0m",
            "\u001b[1;31mTypeError\u001b[0m                                 Traceback (most recent call last)",
            "Cell \u001b[1;32mIn[14], line 8\u001b[0m\n\u001b[0;32m      5\u001b[0m \u001b[38;5;28;01mif\u001b[39;00m user_rating \u001b[38;5;241m>\u001b[39m\u001b[38;5;241m=\u001b[39m \u001b[38;5;241m4\u001b[39m:\n\u001b[0;32m      6\u001b[0m   \u001b[38;5;66;03m# Positive feedback: Slightly increase the weight of the predicted venue in the output layer\u001b[39;00m\n\u001b[0;32m      7\u001b[0m   predicted_venue_index \u001b[38;5;241m=\u001b[39m le_venue\u001b[38;5;241m.\u001b[39mtransform([predicted_venue_id])[\u001b[38;5;241m0\u001b[39m]\n\u001b[1;32m----> 8\u001b[0m   \u001b[43mmodel\u001b[49m\u001b[38;5;241;43m.\u001b[39;49m\u001b[43mlayers\u001b[49m\u001b[43m[\u001b[49m\u001b[38;5;241;43m-\u001b[39;49m\u001b[38;5;241;43m1\u001b[39;49m\u001b[43m]\u001b[49m\u001b[38;5;241;43m.\u001b[39;49m\u001b[43mweights\u001b[49m\u001b[43m[\u001b[49m\u001b[38;5;241;43m0\u001b[39;49m\u001b[43m]\u001b[49m\u001b[43m[\u001b[49m\u001b[43m:\u001b[49m\u001b[43m,\u001b[49m\u001b[43m \u001b[49m\u001b[43mpredicted_venue_index\u001b[49m\u001b[43m]\u001b[49m \u001b[38;5;241m*\u001b[39m\u001b[38;5;241m=\u001b[39m \u001b[38;5;241m1.1\u001b[39m  \u001b[38;5;66;03m# Increase weight by 10%\u001b[39;00m\n\u001b[0;32m      9\u001b[0m \u001b[38;5;28;01melif\u001b[39;00m user_rating \u001b[38;5;241m<\u001b[39m\u001b[38;5;241m=\u001b[39m \u001b[38;5;241m2\u001b[39m:\n\u001b[0;32m     10\u001b[0m   \u001b[38;5;66;03m# Negative feedback: Slightly decrease the weight of the predicted venue in the output layer\u001b[39;00m\n\u001b[0;32m     11\u001b[0m   predicted_venue_index \u001b[38;5;241m=\u001b[39m le_venue\u001b[38;5;241m.\u001b[39mtransform([predicted_venue_id])[\u001b[38;5;241m0\u001b[39m]\n",
            "\u001b[1;31mTypeError\u001b[0m: 'Variable' object does not support item assignment"
          ]
        }
      ],
      "source": [
        "# Get user feedback (rating) for the LSTM prediction\n",
        "user_rating = int(input(f\"Rate the LSTM recommendation (1-5, where 5 is excellent): \"))\n",
        "\n",
        "# Adjust model weights based on user feedback (simplified example)\n",
        "if user_rating >= 4:\n",
        "  # Positive feedback: Slightly increase the weight of the predicted venue in the output layer\n",
        "  predicted_venue_index = le_venue.transform([predicted_venue_id])[0]\n",
        "  model.layers[-1].weights[0][:, predicted_venue_index] *= 1.1  # Increase weight by 10%\n",
        "elif user_rating <= 2:\n",
        "  # Negative feedback: Slightly decrease the weight of the predicted venue in the output layer\n",
        "  predicted_venue_index = le_venue.transform([predicted_venue_id])[0]\n",
        "  model.layers[-1].weights[0][:, predicted_venue_index] *= 0.9  # Decrease weight by 10%\n",
        "\n",
        "# Recompile the model with the updated weights\n",
        "model.compile(optimizer='adam', loss='sparse_categorical_crossentropy', metrics=['accuracy'])\n",
        "\n",
        "# Retrain the model with the updated weights\n",
        "model.fit(X, y, epochs=10, batch_size=32, validation_split=0.2)\n",
        "\n",
        "# Predict the next venue again after incorporating feedback\n",
        "lstm_prediction_updated = model.predict(sample_sequence).argmax(axis=1)[0]\n",
        "predicted_venue_id_updated = le_venue.inverse_transform([lstm_prediction_updated])[0]\n",
        "\n",
        "# Find the venue category and location\n",
        "predicted_venue_row = data[data['venueId'] == lstm_prediction_updated].iloc[0]\n",
        "predicted_venue_category = predicted_venue_row['venueCategory']\n",
        "predicted_venue_latitude = predicted_venue_row['latitude']\n",
        "predicted_venue_longitude = predicted_venue_row['longitude']\n",
        "\n",
        "# Reverse transform the scaled latitude and longitude to get original values\n",
        "original_location = scaler.inverse_transform([[predicted_venue_latitude, predicted_venue_longitude]])\n",
        "original_latitude = original_location[0][0]\n",
        "original_longitude = original_location[0][1]\n",
        "\n",
        "# Get the exact location using reverse geocoding\n",
        "exact_location = get_exact_location(original_latitude, original_longitude)\n",
        "\n",
        "print(f\"LSTM Model Prediction After Rating: Next venue for user {sample_user_id} is likely '{predicted_venue_category}' (Venue ID: {predicted_venue_id_updated})\")\n",
        "print(f\"Destination: {exact_location}\")"
      ]
    },
    {
      "cell_type": "code",
      "execution_count": 15,
      "metadata": {
        "id": "QPM6U9R8xNRC"
      },
      "outputs": [],
      "source": [
        "import pickle\n",
        "\n",
        "# Save the LSTM model\n",
        "with open('./modelv2//lstm_model.pkl', 'wb') as file:\n",
        "    pickle.dump(model, file)\n",
        "\n",
        "# Save the KNN model\n",
        "with open('./modelv2/knn_model.pkl', 'wb') as file:\n",
        "    pickle.dump(knn, file)"
      ]
    },
    {
      "cell_type": "code",
      "execution_count": 16,
      "metadata": {},
      "outputs": [],
      "source": [
        "# Save the scaler\n",
        "with open('modelv2/scaler.pkl', 'wb') as scaler_file:\n",
        "    pickle.dump(scaler, scaler_file)\n",
        "\n",
        "# Save the user label encoder\n",
        "with open('modelv2/le_user.pkl', 'wb') as le_user_file:\n",
        "    pickle.dump(le_user, le_user_file)\n",
        "\n",
        "# Save the venue label encoder\n",
        "with open('modelv2/le_venue.pkl', 'wb') as le_venue_file:\n",
        "    pickle.dump(le_venue, le_venue_file)\n"
      ]
    }
  ],
  "metadata": {
    "accelerator": "GPU",
    "colab": {
      "gpuType": "T4",
      "provenance": []
    },
    "kernelspec": {
      "display_name": "Python 3",
      "name": "python3"
    },
    "language_info": {
      "codemirror_mode": {
        "name": "ipython",
        "version": 3
      },
      "file_extension": ".py",
      "mimetype": "text/x-python",
      "name": "python",
      "nbconvert_exporter": "python",
      "pygments_lexer": "ipython3",
      "version": "3.12.4"
    }
  },
  "nbformat": 4,
  "nbformat_minor": 0
}
